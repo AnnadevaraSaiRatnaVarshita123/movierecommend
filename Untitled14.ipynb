{
  "nbformat": 4,
  "nbformat_minor": 0,
  "metadata": {
    "colab": {
      "provenance": [],
      "authorship_tag": "ABX9TyNTQeN0SmWy3ZR0JXYIQ5CT",
      "include_colab_link": true
    },
    "kernelspec": {
      "name": "python3",
      "display_name": "Python 3"
    },
    "language_info": {
      "name": "python"
    }
  },
  "cells": [
    {
      "cell_type": "markdown",
      "metadata": {
        "id": "view-in-github",
        "colab_type": "text"
      },
      "source": [
        "<a href=\"https://colab.research.google.com/github/AnnadevaraSaiRatnaVarshita123/movierecommend/blob/main/Untitled14.ipynb\" target=\"_parent\"><img src=\"https://colab.research.google.com/assets/colab-badge.svg\" alt=\"Open In Colab\"/></a>"
      ]
    },
    {
      "cell_type": "code",
      "execution_count": 1,
      "metadata": {
        "colab": {
          "base_uri": "https://localhost:8080/"
        },
        "id": "tbw-_0k2RWzK",
        "outputId": "b1c9856c-8eef-43b6-eb9a-0f9be52e4e07"
      },
      "outputs": [
        {
          "output_type": "stream",
          "name": "stdout",
          "text": [
            "Requirement already satisfied: pandas in /usr/local/lib/python3.10/dist-packages (2.1.4)\n",
            "Requirement already satisfied: numpy in /usr/local/lib/python3.10/dist-packages (1.26.4)\n",
            "Requirement already satisfied: scikit-learn in /usr/local/lib/python3.10/dist-packages (1.3.2)\n",
            "Collecting surprise\n",
            "  Downloading surprise-0.1-py2.py3-none-any.whl.metadata (327 bytes)\n",
            "Requirement already satisfied: python-dateutil>=2.8.2 in /usr/local/lib/python3.10/dist-packages (from pandas) (2.8.2)\n",
            "Requirement already satisfied: pytz>=2020.1 in /usr/local/lib/python3.10/dist-packages (from pandas) (2024.1)\n",
            "Requirement already satisfied: tzdata>=2022.1 in /usr/local/lib/python3.10/dist-packages (from pandas) (2024.1)\n",
            "Requirement already satisfied: scipy>=1.5.0 in /usr/local/lib/python3.10/dist-packages (from scikit-learn) (1.13.1)\n",
            "Requirement already satisfied: joblib>=1.1.1 in /usr/local/lib/python3.10/dist-packages (from scikit-learn) (1.4.2)\n",
            "Requirement already satisfied: threadpoolctl>=2.0.0 in /usr/local/lib/python3.10/dist-packages (from scikit-learn) (3.5.0)\n",
            "Collecting scikit-surprise (from surprise)\n",
            "  Downloading scikit_surprise-1.1.4.tar.gz (154 kB)\n",
            "\u001b[2K     \u001b[90m━━━━━━━━━━━━━━━━━━━━━━━━━━━━━━━━━━━━━━━━\u001b[0m \u001b[32m154.4/154.4 kB\u001b[0m \u001b[31m2.7 MB/s\u001b[0m eta \u001b[36m0:00:00\u001b[0m\n",
            "\u001b[?25h  Installing build dependencies ... \u001b[?25l\u001b[?25hdone\n",
            "  Getting requirements to build wheel ... \u001b[?25l\u001b[?25hdone\n",
            "  Preparing metadata (pyproject.toml) ... \u001b[?25l\u001b[?25hdone\n",
            "Requirement already satisfied: six>=1.5 in /usr/local/lib/python3.10/dist-packages (from python-dateutil>=2.8.2->pandas) (1.16.0)\n",
            "Downloading surprise-0.1-py2.py3-none-any.whl (1.8 kB)\n",
            "Building wheels for collected packages: scikit-surprise\n",
            "  Building wheel for scikit-surprise (pyproject.toml) ... \u001b[?25l\u001b[?25hdone\n",
            "  Created wheel for scikit-surprise: filename=scikit_surprise-1.1.4-cp310-cp310-linux_x86_64.whl size=2357283 sha256=b4d1019c8be95bc65e8e0ffde7e38aa39a3197a688b6824d0ab9dceaa3cb5164\n",
            "  Stored in directory: /root/.cache/pip/wheels/4b/3f/df/6acbf0a40397d9bf3ff97f582cc22fb9ce66adde75bc71fd54\n",
            "Successfully built scikit-surprise\n",
            "Installing collected packages: scikit-surprise, surprise\n",
            "Successfully installed scikit-surprise-1.1.4 surprise-0.1\n"
          ]
        }
      ],
      "source": [
        "# Install required libraries\n",
        "!pip install pandas numpy scikit-learn surprise\n",
        "\n",
        "import pandas as pd\n",
        "from surprise import Dataset, Reader, SVD\n",
        "from surprise.model_selection import train_test_split\n",
        "from surprise import accuracy"
      ]
    },
    {
      "cell_type": "code",
      "source": [
        "# Download and unzip the dataset\n",
        "!wget https://files.grouplens.org/datasets/movielens/ml-latest-small.zip\n",
        "!unzip ml-latest-small.zip"
      ],
      "metadata": {
        "colab": {
          "base_uri": "https://localhost:8080/"
        },
        "id": "w7jAYiQYR7ki",
        "outputId": "f3632daa-2630-4399-bcf3-f20f67a83540"
      },
      "execution_count": 2,
      "outputs": [
        {
          "output_type": "stream",
          "name": "stdout",
          "text": [
            "--2024-09-07 16:20:15--  https://files.grouplens.org/datasets/movielens/ml-latest-small.zip\n",
            "Resolving files.grouplens.org (files.grouplens.org)... 128.101.65.152\n",
            "Connecting to files.grouplens.org (files.grouplens.org)|128.101.65.152|:443... connected.\n",
            "HTTP request sent, awaiting response... 200 OK\n",
            "Length: 978202 (955K) [application/zip]\n",
            "Saving to: ‘ml-latest-small.zip’\n",
            "\n",
            "ml-latest-small.zip 100%[===================>] 955.28K  4.52MB/s    in 0.2s    \n",
            "\n",
            "2024-09-07 16:20:15 (4.52 MB/s) - ‘ml-latest-small.zip’ saved [978202/978202]\n",
            "\n",
            "Archive:  ml-latest-small.zip\n",
            "   creating: ml-latest-small/\n",
            "  inflating: ml-latest-small/links.csv  \n",
            "  inflating: ml-latest-small/tags.csv  \n",
            "  inflating: ml-latest-small/ratings.csv  \n",
            "  inflating: ml-latest-small/README.txt  \n",
            "  inflating: ml-latest-small/movies.csv  \n"
          ]
        }
      ]
    },
    {
      "cell_type": "code",
      "source": [
        "# Load the dataset\n",
        "movies = pd.read_csv('ml-latest-small/movies.csv')\n",
        "ratings = pd.read_csv('ml-latest-small/ratings.csv')\n",
        "\n",
        "# Prepare data for the recommendation system\n",
        "reader = Reader(line_format='user item rating timestamp', sep=',')\n",
        "data = Dataset.load_from_df(ratings[['userId', 'movieId', 'rating']], reader)\n",
        "trainset, testset = train_test_split(data, test_size=0.2)\n",
        "\n",
        "# Build and train the model\n",
        "model = SVD()\n",
        "model.fit(trainset)\n",
        "\n",
        "# Evaluate the model\n",
        "predictions = model.test(testset)\n",
        "accuracy.rmse(predictions)\n",
        "\n",
        "# Function to get movie title from movieId\n",
        "def get_movie_title(movie_id):\n",
        "    return movies[movies['movieId'] == movie_id]['title'].values[0]\n",
        "\n",
        "# Function to get top N recommendations for similar movies\n",
        "def get_similar_movies(movie_title, top_n=10):\n",
        "    movie_id = movies[movies['title'].str.contains(movie_title, case=False, na=False)]['movieId']\n",
        "    if movie_id.empty:\n",
        "        return \"Movie not found.\"\n",
        "\n",
        "    movie_id = movie_id.values[0]\n",
        "    # Ask for user ID\n",
        "    user_id = int(input(\"Enter a user ID: \"))\n",
        "    movie_ratings = [(iid, model.predict(user_id, iid).est) for iid in movies['movieId'].unique() if iid != movie_id]\n",
        "\n",
        "    return sorted(movie_ratings, key=lambda x: x[1], reverse=True)[:top_n]\n",
        "\n",
        "# Input from user\n",
        "movie_title = input(\"Enter a movie title to find similar movies: \")\n",
        "\n",
        "similar_movies = get_similar_movies(movie_title)\n",
        "if isinstance(similar_movies, str):\n",
        "    print(similar_movies)\n",
        "else:\n",
        "    print(f\"Movies similar to '{movie_title}':\")\n",
        "for movie_id, rating in similar_movies:\n",
        "        print(f\"{get_movie_title(movie_id)} - Predicted Rating: {rating:.2f}\")"
      ],
      "metadata": {
        "colab": {
          "base_uri": "https://localhost:8080/"
        },
        "id": "gT1LLCZITAjr",
        "outputId": "ddb3d0dc-35f4-4e7b-b8d6-d67e00ee44ac"
      },
      "execution_count": 6,
      "outputs": [
        {
          "output_type": "stream",
          "name": "stdout",
          "text": [
            "RMSE: 0.8782\n",
            "Enter a movie title to find similar movies: Titanic\n",
            "Enter a user ID: 1\n",
            "Movies similar to 'Titanic':\n",
            "Shawshank Redemption, The (1994) - Predicted Rating: 5.00\n",
            "In the Name of the Father (1993) - Predicted Rating: 5.00\n",
            "Blade Runner (1982) - Predicted Rating: 5.00\n",
            "Silence of the Lambs, The (1991) - Predicted Rating: 5.00\n",
            "Dr. Strangelove or: How I Learned to Stop Worrying and Love the Bomb (1964) - Predicted Rating: 5.00\n",
            "Godfather, The (1972) - Predicted Rating: 5.00\n",
            "Philadelphia Story, The (1940) - Predicted Rating: 5.00\n",
            "North by Northwest (1959) - Predicted Rating: 5.00\n",
            "Casablanca (1942) - Predicted Rating: 5.00\n",
            "Sunset Blvd. (a.k.a. Sunset Boulevard) (1950) - Predicted Rating: 5.00\n"
          ]
        }
      ]
    }
  ]
}